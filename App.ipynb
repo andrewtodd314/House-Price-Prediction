{
 "cells": [
  {
   "cell_type": "markdown",
   "id": "51204cf8",
   "metadata": {},
   "source": [
    "# Turning the House Price Prediction Analysis into a Useable Format"
   ]
  },
  {
   "cell_type": "markdown",
   "id": "fe48a3b4",
   "metadata": {},
   "source": [
    "### Creating a script to allow users to input hosue data and predict a house price based on an optimised pretrained model"
   ]
  },
  {
   "cell_type": "code",
   "execution_count": 19,
   "id": "5805887f",
   "metadata": {},
   "outputs": [
    {
     "data": {
      "text/plain": [
       "'C:\\\\Users\\\\xeb15154\\\\OneDrive - University of Strathclyde\\\\Data Science Projects'"
      ]
     },
     "execution_count": 19,
     "metadata": {},
     "output_type": "execute_result"
    }
   ],
   "source": [
    "import streamlit as st\n",
    "import pandas as pd\n",
    "import numpy as np\n",
    "import joblib\n",
    "import os\n",
    "os.getcwd()"
   ]
  },
  {
   "cell_type": "code",
   "execution_count": 6,
   "id": "6c5a1921",
   "metadata": {},
   "outputs": [],
   "source": [
    "#import best model\n",
    "model = joblib.load('House_Price_Prediction_Model.pk1')"
   ]
  },
  {
   "cell_type": "code",
   "execution_count": 20,
   "id": "c3dc1e06",
   "metadata": {},
   "outputs": [],
   "source": [
    "#Define a function to collect input variables\n",
    "def predict_price(bedrooms, bathrooms, sqft_living, sqft_lot, floors,\n",
    "                 waterfront, view, grade, yr_built, yr_renovated, lat, long,\n",
    "                 sqft_living15, sqft_lot15, month_sold\n",
    "                 ):\n",
    "    \n",
    "                #create datframe with the same stracutre as your training data\n",
    "                input_data = pd.DataFrame([{\n",
    "                    'bedrooms': bedrooms,\n",
    "                    'bathrooms': bathrooms,\n",
    "                    'sqft_living': sqft_living,\n",
    "                    'sqft_lot': sqft_lot,\n",
    "                    'floors': floors,\n",
    "                    'waterfront':waterfront,\n",
    "                    'view': view,\n",
    "                    'grade': grade,\n",
    "                    'yr_built': yr_built,\n",
    "                    'yr_renovated': yr_renovated,\n",
    "                    'lat': lat,\n",
    "                    'long': long,\n",
    "                    'sqft_living15': sqft_living15,\n",
    "                    'sqft_lot15': sqft_lot15,\n",
    "                    'month_sold': month_sold\n",
    "                }])\n",
    "            \n",
    "                # generate prediction\n",
    "                prediction = model.predict(input_data)\n",
    "                # remove logarithm\n",
    "                prediction = np.exp(prediction)\n",
    "                \n",
    "                return prediction"
   ]
  },
  {
   "cell_type": "code",
   "execution_count": 28,
   "id": "6e78041c",
   "metadata": {},
   "outputs": [
    {
     "name": "stdout",
     "output_type": "stream",
     "text": [
      " Predicted House Price: $823,828.30\n"
     ]
    }
   ],
   "source": [
    "#Predicting price for below example\n",
    "price = predict_price(\n",
    "    bedrooms=3,\n",
    "    bathrooms=2.5,\n",
    "    sqft_living=2200,\n",
    "    sqft_lot=5000,\n",
    "    floors=2.0,\n",
    "    waterfront=0,\n",
    "    view=1,\n",
    "    grade=8,\n",
    "    yr_built=2005,\n",
    "    yr_renovated=0,\n",
    "    lat=47.6,\n",
    "    long=-122.2,\n",
    "    sqft_living15=2100,\n",
    "    sqft_lot15=4800,\n",
    "    month_sold=6\n",
    ")\n",
    "\n",
    "print(f\" Predicted House Price: ${price[0]:,.2f}\")"
   ]
  },
  {
   "cell_type": "code",
   "execution_count": null,
   "id": "ed452808",
   "metadata": {},
   "outputs": [],
   "source": []
  }
 ],
 "metadata": {
  "kernelspec": {
   "display_name": "Python 3 (ipykernel)",
   "language": "python",
   "name": "python3"
  },
  "language_info": {
   "codemirror_mode": {
    "name": "ipython",
    "version": 3
   },
   "file_extension": ".py",
   "mimetype": "text/x-python",
   "name": "python",
   "nbconvert_exporter": "python",
   "pygments_lexer": "ipython3",
   "version": "3.11.5"
  }
 },
 "nbformat": 4,
 "nbformat_minor": 5
}
